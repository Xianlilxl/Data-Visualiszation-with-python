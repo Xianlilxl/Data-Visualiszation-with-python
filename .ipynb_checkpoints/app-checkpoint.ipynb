{
 "cells": [
  {
   "cell_type": "code",
   "execution_count": 1,
   "metadata": {},
   "outputs": [
    {
     "name": "stdout",
     "output_type": "stream",
     "text": [
      "Dash is running on http://127.0.0.1:8050/\n",
      "\n",
      " * Serving Flask app \"__main__\" (lazy loading)\n",
      " * Environment: production\n",
      "   WARNING: This is a development server. Do not use it in a production deployment.\n",
      "   Use a production WSGI server instead.\n",
      " * Debug mode: on\n"
     ]
    },
    {
     "ename": "SystemExit",
     "evalue": "1",
     "output_type": "error",
     "traceback": [
      "An exception has occurred, use %tb to see the full traceback.\n",
      "\u001b[1;31mSystemExit\u001b[0m\u001b[1;31m:\u001b[0m 1\n"
     ]
    },
    {
     "name": "stderr",
     "output_type": "stream",
     "text": [
      "C:\\Users\\geoge\\Anaconda3\\lib\\site-packages\\IPython\\core\\interactiveshell.py:3334: UserWarning:\n",
      "\n",
      "To exit: use 'exit', 'quit', or Ctrl-D.\n",
      "\n"
     ]
    }
   ],
   "source": [
    "# -*- coding: utf-8 -*-\n",
    "\n",
    "# Run this app with `python app.py` and\n",
    "# visit http://127.0.0.1:8050/ in your web browser.\n",
    "\n",
    "import dash\n",
    "import dash_core_components as dcc\n",
    "import dash_html_components as html\n",
    "import plotly.express as px\n",
    "import pandas as pd\n",
    "\n",
    "external_stylesheets = ['https://codepen.io/chriddyp/pen/bWLwgP.css']\n",
    "\n",
    "app = dash.Dash(__name__, external_stylesheets=external_stylesheets)\n",
    "\n",
    "# assume you have a \"long-form\" data frame\n",
    "# see https://plotly.com/python/px-arguments/ for more options\n",
    "df = pd.DataFrame({\n",
    "    \"Fruit\": [\"Apples\", \"Oranges\", \"Bananas\", \"Apples\", \"Oranges\", \"Bananas\"],\n",
    "    \"Amount\": [4, 1, 2, 2, 4, 5],\n",
    "    \"City\": [\"SF\", \"SF\", \"SF\", \"Montreal\", \"Montreal\", \"Montreal\"]\n",
    "})\n",
    "\n",
    "fig = px.bar(df, x=\"Fruit\", y=\"Amount\", color=\"City\", barmode=\"group\")\n",
    "\n",
    "app.layout = html.Div(children=[\n",
    "    html.H1(children='Hello Dash'),\n",
    "\n",
    "    html.Div(children='''\n",
    "        Dash: A web application framework for Python.\n",
    "    '''),\n",
    "\n",
    "    dcc.Graph(\n",
    "        id='example-graph',\n",
    "        figure=fig\n",
    "    )\n",
    "])\n",
    "\n",
    "if __name__ == '__main__':\n",
    "    app.run_server(debug=True)"
   ]
  },
  {
   "cell_type": "code",
   "execution_count": 1,
   "metadata": {},
   "outputs": [
    {
     "name": "stdout",
     "output_type": "stream",
     "text": [
      "Collecting dash_daq\n",
      "  Downloading https://files.pythonhosted.org/packages/16/c1/9c6adfc3646990965a5b2ca073f579cc9c09d15553fcfcd83aefd1255494/dash_daq-0.5.0.tar.gz (642kB)\n",
      "Requirement already satisfied: dash>=1.6.1 in c:\\users\\geoge\\anaconda3\\lib\\site-packages (from dash_daq) (1.16.3)\n",
      "Requirement already satisfied: dash-table==4.10.1 in c:\\users\\geoge\\anaconda3\\lib\\site-packages (from dash>=1.6.1->dash_daq) (4.10.1)\n",
      "Requirement already satisfied: future in c:\\users\\geoge\\anaconda3\\lib\\site-packages (from dash>=1.6.1->dash_daq) (0.17.1)\n",
      "Requirement already satisfied: flask-compress in c:\\users\\geoge\\anaconda3\\lib\\site-packages (from dash>=1.6.1->dash_daq) (1.7.0)\n",
      "Requirement already satisfied: dash-core-components==1.12.1 in c:\\users\\geoge\\anaconda3\\lib\\site-packages (from dash>=1.6.1->dash_daq) (1.12.1)\n",
      "Requirement already satisfied: plotly in c:\\users\\geoge\\anaconda3\\lib\\site-packages (from dash>=1.6.1->dash_daq) (4.11.0)\n",
      "Requirement already satisfied: dash-renderer==1.8.2 in c:\\users\\geoge\\anaconda3\\lib\\site-packages (from dash>=1.6.1->dash_daq) (1.8.2)\n",
      "Requirement already satisfied: dash-html-components==1.1.1 in c:\\users\\geoge\\anaconda3\\lib\\site-packages (from dash>=1.6.1->dash_daq) (1.1.1)\n",
      "Requirement already satisfied: Flask>=1.0.2 in c:\\users\\geoge\\anaconda3\\lib\\site-packages (from dash>=1.6.1->dash_daq) (1.1.1)\n",
      "Requirement already satisfied: brotli in c:\\users\\geoge\\anaconda3\\lib\\site-packages (from flask-compress->dash>=1.6.1->dash_daq) (1.0.9)\n",
      "Requirement already satisfied: retrying>=1.3.3 in c:\\users\\geoge\\anaconda3\\lib\\site-packages (from plotly->dash>=1.6.1->dash_daq) (1.3.3)\n",
      "Requirement already satisfied: six in c:\\users\\geoge\\anaconda3\\lib\\site-packages (from plotly->dash>=1.6.1->dash_daq) (1.12.0)\n",
      "Requirement already satisfied: itsdangerous>=0.24 in c:\\users\\geoge\\anaconda3\\lib\\site-packages (from Flask>=1.0.2->dash>=1.6.1->dash_daq) (1.1.0)\n",
      "Requirement already satisfied: Werkzeug>=0.15 in c:\\users\\geoge\\anaconda3\\lib\\site-packages (from Flask>=1.0.2->dash>=1.6.1->dash_daq) (0.16.0)\n",
      "Requirement already satisfied: Jinja2>=2.10.1 in c:\\users\\geoge\\anaconda3\\lib\\site-packages (from Flask>=1.0.2->dash>=1.6.1->dash_daq) (2.10.3)\n",
      "Requirement already satisfied: click>=5.1 in c:\\users\\geoge\\anaconda3\\lib\\site-packages (from Flask>=1.0.2->dash>=1.6.1->dash_daq) (7.0)\n",
      "Requirement already satisfied: MarkupSafe>=0.23 in c:\\users\\geoge\\anaconda3\\lib\\site-packages (from Jinja2>=2.10.1->Flask>=1.0.2->dash>=1.6.1->dash_daq) (1.1.1)\n",
      "Building wheels for collected packages: dash-daq\n",
      "  Building wheel for dash-daq (setup.py): started\n",
      "  Building wheel for dash-daq (setup.py): finished with status 'done'\n",
      "  Created wheel for dash-daq: filename=dash_daq-0.5.0-cp37-none-any.whl size=669708 sha256=a6d13507cb852e34b17d11c212fdc578c0ef4e208aea3014c743a3df5e8d4840\n",
      "  Stored in directory: C:\\Users\\geoge\\AppData\\Local\\pip\\Cache\\wheels\\1c\\9c\\f7\\84731716eaa9fc952cdbdd1f87df3ca9b8805c317c609efcd6\n",
      "Successfully built dash-daq\n",
      "Installing collected packages: dash-daq\n",
      "Successfully installed dash-daq-0.5.0\n",
      "Note: you may need to restart the kernel to use updated packages.\n"
     ]
    }
   ],
   "source": [
    "pip install dash_daq"
   ]
  },
  {
   "cell_type": "code",
   "execution_count": null,
   "metadata": {},
   "outputs": [],
   "source": []
  }
 ],
 "metadata": {
  "kernelspec": {
   "display_name": "Python 3",
   "language": "python",
   "name": "python3"
  },
  "language_info": {
   "codemirror_mode": {
    "name": "ipython",
    "version": 3
   },
   "file_extension": ".py",
   "mimetype": "text/x-python",
   "name": "python",
   "nbconvert_exporter": "python",
   "pygments_lexer": "ipython3",
   "version": "3.7.4"
  }
 },
 "nbformat": 4,
 "nbformat_minor": 2
}
